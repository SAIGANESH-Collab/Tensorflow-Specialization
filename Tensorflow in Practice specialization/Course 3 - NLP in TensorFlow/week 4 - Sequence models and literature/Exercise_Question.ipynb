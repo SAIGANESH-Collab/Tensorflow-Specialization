{
 "cells": [
  {
   "cell_type": "markdown",
   "metadata": {
    "colab_type": "text",
    "id": "DzopWq1dJH75"
   },
   "source": [
    "# Links\n",
    "\n",
    "1.   [Time Steps in Keras](https://stats.stackexchange.com/questions/377091/time-steps-in-keras-lstm)\n",
    "2.   [Difference Between Return Sequences and Return States for LSTMs in Keras](https://machinelearningmastery.com/return-sequences-and-return-states-for-lstms-in-keras/)\n",
    "3. [Stacked LSTM](https://machinelearningmastery.com/stacked-long-short-term-memory-networks/)\n",
    "4.   [RNN-LSTM quick guide](https://towardsdatascience.com/understanding-lstm-and-its-quick-implementation-in-keras-for-sentiment-analysis-af410fd85b47)\n",
    "5.   [Keras LSTM tutorial – How to easily build a powerful deep learning language model](https://adventuresinmachinelearning.com/keras-lstm-tutorial/)\n",
    "6. [Understanding Input and Output shapes in LSTM | Keras](https://medium.com/@shivajbd/understanding-input-and-output-shape-in-lstm-keras-c501ee95c65e)\n",
    "7. [Illustrated Guide to LSTM's and GRU's: A step by step explanation](https://www.youtube.com/watch?v=8HyCNIVRbSU)"
   ]
  },
  {
   "cell_type": "markdown",
   "metadata": {},
   "source": [
    "To specify an LSTM layer, first you have to provide the number of nodes in the hidden layers within the LSTM cell, e.g. the number of cells in the forget gate layer, the tanh squashing input layer and so on. The next argument that is specified in the code above is the return_sequences=True argument. What this does is ensure that the LSTM cell returns all of the outputs from the unrolled LSTM cell through time. If this argument is left out, the LSTM cell will simply provide the output of the LSTM cell from the last time step"
   ]
  },
  {
   "cell_type": "code",
   "execution_count": 0,
   "metadata": {
    "colab": {},
    "colab_type": "code",
    "id": "vPmZNnQF9fuS"
   },
   "outputs": [],
   "source": [
    "# !pip install -U tensorflow-gpu"
   ]
  },
  {
   "cell_type": "code",
   "execution_count": 0,
   "metadata": {
    "colab": {},
    "colab_type": "code",
    "id": "zx91EPGs6ypV"
   },
   "outputs": [],
   "source": [
    "import builtins\n",
    "\n",
    "def print(*args, **kwargs):\n",
    "    return builtins.print(*args, **kwargs, end=\"\\n\\n\")"
   ]
  },
  {
   "cell_type": "code",
   "execution_count": 0,
   "metadata": {
    "colab": {},
    "colab_type": "code",
    "id": "BOwsuGQQY9OL"
   },
   "outputs": [],
   "source": [
    "from tensorflow.keras.preprocessing.sequence import pad_sequences\n",
    "from tensorflow.keras.layers import Embedding, LSTM, Dense, Dropout, Bidirectional\n",
    "from tensorflow.keras.preprocessing.text import Tokenizer\n",
    "from tensorflow.keras.models import Sequential\n",
    "from tensorflow.keras.optimizers import Adam\n",
    "### YOUR CODE HERE\n",
    "# Figure out how to import regularizers\n",
    "from tensorflow.keras import regularizers\n",
    "###\n",
    "import tensorflow.keras.utils as ku \n",
    "import numpy as np "
   ]
  },
  {
   "cell_type": "code",
   "execution_count": 0,
   "metadata": {
    "colab": {},
    "colab_type": "code",
    "id": "PRnDnCW-Z7qv"
   },
   "outputs": [],
   "source": [
    "# !wget --no-check-certificate \\\n",
    "#     https://storage.googleapis.com/laurencemoroney-blog.appspot.com/sonnets.txt \\\n",
    "#     -O /tmp/sonnets.txt\n",
    "data = open('/tmp/sonnets.txt').read()\n",
    "\n",
    "corpus = data.lower().split(\"\\n\")\n",
    "\n",
    "tokenizer = Tokenizer()\n",
    "tokenizer.fit_on_texts(corpus)\n",
    "\n",
    "total_words = len(tokenizer.word_index) + 1\n",
    "\n",
    "# create input sequences using list of tokens\n",
    "input_sequences = []\n",
    "for line in corpus[:10]:\n",
    "\t# print([line])\n",
    "\ttoken_list = tokenizer.texts_to_sequences([line])[0]\n",
    "\t# print(token_list)\n",
    "\tfor i in range(1, len(token_list)):\n",
    "\t\tn_gram_sequence = token_list[:i+1]\n",
    "\t\tinput_sequences.append(n_gram_sequence)\n",
    "\t# break\n",
    "# print(input_sequences)\n",
    "\n",
    "# # pad sequences \n",
    "max_sequence_len = max([len(x) for x in input_sequences])\n",
    "input_sequences = np.array(pad_sequences(input_sequences, maxlen=max_sequence_len, padding='pre'))\n",
    "\n",
    "# create predictors and label\n",
    "\n",
    "predictors, label = input_sequences[:,:-1],input_sequences[:,-1]\n",
    "\n",
    "# print(input_sequences[:5])\n",
    "# print(predictors[:5])\n",
    "# print(label[:5])\n",
    "\n",
    "label = ku.to_categorical(label, num_classes=total_words)\n"
   ]
  },
  {
   "cell_type": "code",
   "execution_count": 0,
   "metadata": {
    "colab": {
     "base_uri": "https://localhost:8080/",
     "height": 351
    },
    "colab_type": "code",
    "id": "w9vH8Y59ajYL",
    "outputId": "1b7c8794-2fea-485a-bf54-890f90a1f778"
   },
   "outputs": [
    {
     "name": "stdout",
     "output_type": "stream",
     "text": [
      "Model: \"sequential\"\n",
      "_________________________________________________________________\n",
      "Layer (type)                 Output Shape              Param #   \n",
      "=================================================================\n",
      "embedding (Embedding)        (None, 8, 100)            321100    \n",
      "_________________________________________________________________\n",
      "lstm (LSTM)                  (None, 8, 150)            150600    \n",
      "_________________________________________________________________\n",
      "dropout (Dropout)            (None, 8, 150)            0         \n",
      "_________________________________________________________________\n",
      "lstm_1 (LSTM)                (None, 100)               100400    \n",
      "_________________________________________________________________\n",
      "dense (Dense)                (None, 1605)              162105    \n",
      "_________________________________________________________________\n",
      "dense_1 (Dense)              (None, 3211)              5156866   \n",
      "=================================================================\n",
      "Total params: 5,891,071\n",
      "Trainable params: 5,891,071\n",
      "Non-trainable params: 0\n",
      "_________________________________________________________________\n"
     ]
    }
   ],
   "source": [
    "model = Sequential()\n",
    "model.add(Embedding(total_words, 100, input_length=max_sequence_len - 1))\n",
    "model.add(LSTM(150, return_sequences=True))\n",
    "model.add(Dropout(0.2))\n",
    "model.add(LSTM(100))\n",
    "model.add(Dense(total_words//2, activation='relu', kernel_regularizer=regularizers.l2(0.01)))\n",
    "model.add(Dense(total_words, activation='softmax'))\n",
    "# Pick an optimizer\n",
    "model.compile(loss='categorical_crossentropy', optimizer='adam',\n",
    "              metrics=['accuracy'])\n",
    "model.summary()\n"
   ]
  },
  {
   "cell_type": "code",
   "execution_count": 0,
   "metadata": {
    "colab": {
     "base_uri": "https://localhost:8080/",
     "height": 1000
    },
    "colab_type": "code",
    "id": "AIg2f1HBxqof",
    "outputId": "72d10409-7066-4113-e129-cda8d42b4a2b"
   },
   "outputs": [
    {
     "name": "stdout",
     "output_type": "stream",
     "text": [
      "Train on 64 samples\n",
      "Epoch 1/100\n",
      "64/64 [==============================] - 4s 64ms/sample - loss: 9.9100 - accuracy: 0.0156\n",
      "Epoch 2/100\n",
      "64/64 [==============================] - 0s 450us/sample - loss: 9.7184 - accuracy: 0.0469\n",
      "Epoch 3/100\n",
      "64/64 [==============================] - 0s 496us/sample - loss: 9.5305 - accuracy: 0.0469\n",
      "Epoch 4/100\n",
      "64/64 [==============================] - 0s 435us/sample - loss: 9.3347 - accuracy: 0.0469\n",
      "Epoch 5/100\n",
      "64/64 [==============================] - 0s 454us/sample - loss: 9.0984 - accuracy: 0.0469\n",
      "Epoch 6/100\n",
      "64/64 [==============================] - 0s 419us/sample - loss: 8.7370 - accuracy: 0.0469\n",
      "Epoch 7/100\n",
      "64/64 [==============================] - 0s 441us/sample - loss: 8.0174 - accuracy: 0.0469\n",
      "Epoch 8/100\n",
      "64/64 [==============================] - 0s 423us/sample - loss: 6.5358 - accuracy: 0.0469\n",
      "Epoch 9/100\n",
      "64/64 [==============================] - 0s 415us/sample - loss: 5.1515 - accuracy: 0.0469\n",
      "Epoch 10/100\n",
      "64/64 [==============================] - 0s 432us/sample - loss: 4.9941 - accuracy: 0.0469\n",
      "Epoch 11/100\n",
      "64/64 [==============================] - 0s 438us/sample - loss: 4.8737 - accuracy: 0.0156\n",
      "Epoch 12/100\n",
      "64/64 [==============================] - 0s 428us/sample - loss: 4.8245 - accuracy: 0.0312\n",
      "Epoch 13/100\n",
      "64/64 [==============================] - 0s 437us/sample - loss: 4.8285 - accuracy: 0.0312\n",
      "Epoch 14/100\n",
      "64/64 [==============================] - 0s 445us/sample - loss: 4.7876 - accuracy: 0.0156\n",
      "Epoch 15/100\n",
      "64/64 [==============================] - 0s 460us/sample - loss: 4.7106 - accuracy: 0.0312\n",
      "Epoch 16/100\n",
      "64/64 [==============================] - 0s 416us/sample - loss: 4.6305 - accuracy: 0.0312\n",
      "Epoch 17/100\n",
      "64/64 [==============================] - 0s 629us/sample - loss: 4.6122 - accuracy: 0.0156\n",
      "Epoch 18/100\n",
      "64/64 [==============================] - 0s 446us/sample - loss: 4.5853 - accuracy: 0.0312\n",
      "Epoch 19/100\n",
      "64/64 [==============================] - 0s 508us/sample - loss: 4.5173 - accuracy: 0.0469\n",
      "Epoch 20/100\n",
      "64/64 [==============================] - 0s 416us/sample - loss: 4.4733 - accuracy: 0.0469\n",
      "Epoch 21/100\n",
      "64/64 [==============================] - 0s 413us/sample - loss: 4.4756 - accuracy: 0.0312\n",
      "Epoch 22/100\n",
      "64/64 [==============================] - 0s 443us/sample - loss: 4.4446 - accuracy: 0.0156\n",
      "Epoch 23/100\n",
      "64/64 [==============================] - 0s 447us/sample - loss: 4.4150 - accuracy: 0.0469\n",
      "Epoch 24/100\n",
      "64/64 [==============================] - 0s 432us/sample - loss: 4.3800 - accuracy: 0.0469\n",
      "Epoch 25/100\n",
      "64/64 [==============================] - 0s 453us/sample - loss: 4.3581 - accuracy: 0.0469\n",
      "Epoch 26/100\n",
      "64/64 [==============================] - 0s 461us/sample - loss: 4.3229 - accuracy: 0.0469\n",
      "Epoch 27/100\n",
      "64/64 [==============================] - 0s 445us/sample - loss: 4.3129 - accuracy: 0.0312\n",
      "Epoch 28/100\n",
      "64/64 [==============================] - 0s 483us/sample - loss: 4.2911 - accuracy: 0.0312\n",
      "Epoch 29/100\n",
      "64/64 [==============================] - 0s 470us/sample - loss: 4.2781 - accuracy: 0.0469\n",
      "Epoch 30/100\n",
      "64/64 [==============================] - 0s 456us/sample - loss: 4.2605 - accuracy: 0.0469\n",
      "Epoch 31/100\n",
      "64/64 [==============================] - 0s 392us/sample - loss: 4.2428 - accuracy: 0.0312\n",
      "Epoch 32/100\n",
      "64/64 [==============================] - 0s 417us/sample - loss: 4.2299 - accuracy: 0.0156\n",
      "Epoch 33/100\n",
      "64/64 [==============================] - 0s 446us/sample - loss: 4.2158 - accuracy: 0.0469\n",
      "Epoch 34/100\n",
      "64/64 [==============================] - 0s 531us/sample - loss: 4.2089 - accuracy: 0.0469\n",
      "Epoch 35/100\n",
      "64/64 [==============================] - 0s 490us/sample - loss: 4.1950 - accuracy: 0.0469\n",
      "Epoch 36/100\n",
      "64/64 [==============================] - 0s 434us/sample - loss: 4.1870 - accuracy: 0.0469\n",
      "Epoch 37/100\n",
      "64/64 [==============================] - 0s 474us/sample - loss: 4.1793 - accuracy: 0.0000e+00\n",
      "Epoch 38/100\n",
      "64/64 [==============================] - 0s 458us/sample - loss: 4.1656 - accuracy: 0.0625\n",
      "Epoch 39/100\n",
      "64/64 [==============================] - 0s 461us/sample - loss: 4.1573 - accuracy: 0.0156\n",
      "Epoch 40/100\n",
      "64/64 [==============================] - 0s 486us/sample - loss: 4.1546 - accuracy: 0.0469\n",
      "Epoch 41/100\n",
      "64/64 [==============================] - 0s 493us/sample - loss: 4.1445 - accuracy: 0.0469\n",
      "Epoch 42/100\n",
      "64/64 [==============================] - 0s 448us/sample - loss: 4.1380 - accuracy: 0.0469\n",
      "Epoch 43/100\n",
      "64/64 [==============================] - 0s 500us/sample - loss: 4.1306 - accuracy: 0.0312\n",
      "Epoch 44/100\n",
      "64/64 [==============================] - 0s 500us/sample - loss: 4.1256 - accuracy: 0.0469\n",
      "Epoch 45/100\n",
      "64/64 [==============================] - 0s 501us/sample - loss: 4.1155 - accuracy: 0.0469\n",
      "Epoch 46/100\n",
      "64/64 [==============================] - 0s 493us/sample - loss: 4.1117 - accuracy: 0.0312\n",
      "Epoch 47/100\n",
      "64/64 [==============================] - 0s 484us/sample - loss: 4.1070 - accuracy: 0.0312\n",
      "Epoch 48/100\n",
      "64/64 [==============================] - 0s 535us/sample - loss: 4.1016 - accuracy: 0.0469\n",
      "Epoch 49/100\n",
      "64/64 [==============================] - 0s 525us/sample - loss: 4.0980 - accuracy: 0.0156\n",
      "Epoch 50/100\n",
      "64/64 [==============================] - 0s 499us/sample - loss: 4.0914 - accuracy: 0.0469\n",
      "Epoch 51/100\n",
      "64/64 [==============================] - 0s 468us/sample - loss: 4.0881 - accuracy: 0.0312\n",
      "Epoch 52/100\n",
      "64/64 [==============================] - 0s 401us/sample - loss: 4.0814 - accuracy: 0.0156\n",
      "Epoch 53/100\n",
      "64/64 [==============================] - 0s 431us/sample - loss: 4.0793 - accuracy: 0.0312\n",
      "Epoch 54/100\n",
      "64/64 [==============================] - 0s 457us/sample - loss: 4.0762 - accuracy: 0.0469\n",
      "Epoch 55/100\n",
      "64/64 [==============================] - 0s 416us/sample - loss: 4.0699 - accuracy: 0.0469\n",
      "Epoch 56/100\n",
      "64/64 [==============================] - 0s 466us/sample - loss: 4.0671 - accuracy: 0.0469\n",
      "Epoch 57/100\n",
      "64/64 [==============================] - 0s 403us/sample - loss: 4.0654 - accuracy: 0.0469\n",
      "Epoch 58/100\n",
      "64/64 [==============================] - 0s 434us/sample - loss: 4.0608 - accuracy: 0.0312\n",
      "Epoch 59/100\n",
      "64/64 [==============================] - 0s 416us/sample - loss: 4.0565 - accuracy: 0.0469\n",
      "Epoch 60/100\n",
      "64/64 [==============================] - 0s 441us/sample - loss: 4.0555 - accuracy: 0.0156\n",
      "Epoch 61/100\n",
      "64/64 [==============================] - 0s 480us/sample - loss: 4.0534 - accuracy: 0.0000e+00\n",
      "Epoch 62/100\n",
      "64/64 [==============================] - 0s 489us/sample - loss: 4.0502 - accuracy: 0.0469\n",
      "Epoch 63/100\n",
      "64/64 [==============================] - 0s 419us/sample - loss: 4.0476 - accuracy: 0.0469\n",
      "Epoch 64/100\n",
      "64/64 [==============================] - 0s 452us/sample - loss: 4.0457 - accuracy: 0.0469\n",
      "Epoch 65/100\n",
      "64/64 [==============================] - 0s 405us/sample - loss: 4.0405 - accuracy: 0.0469\n",
      "Epoch 66/100\n",
      "64/64 [==============================] - 0s 391us/sample - loss: 4.0412 - accuracy: 0.0156\n",
      "Epoch 67/100\n",
      "64/64 [==============================] - 0s 393us/sample - loss: 4.0379 - accuracy: 0.0469\n",
      "Epoch 68/100\n",
      "64/64 [==============================] - 0s 398us/sample - loss: 4.0376 - accuracy: 0.0469\n",
      "Epoch 69/100\n",
      "64/64 [==============================] - 0s 454us/sample - loss: 4.0330 - accuracy: 0.0469\n",
      "Epoch 70/100\n",
      "64/64 [==============================] - 0s 444us/sample - loss: 4.0324 - accuracy: 0.0312\n",
      "Epoch 71/100\n",
      "64/64 [==============================] - 0s 405us/sample - loss: 4.0334 - accuracy: 0.0469\n",
      "Epoch 72/100\n",
      "64/64 [==============================] - 0s 417us/sample - loss: 4.0301 - accuracy: 0.0469\n",
      "Epoch 73/100\n",
      "64/64 [==============================] - 0s 419us/sample - loss: 4.0287 - accuracy: 0.0469\n",
      "Epoch 74/100\n",
      "64/64 [==============================] - 0s 428us/sample - loss: 4.0288 - accuracy: 0.0469\n",
      "Epoch 75/100\n",
      "64/64 [==============================] - 0s 446us/sample - loss: 4.0266 - accuracy: 0.0469\n",
      "Epoch 76/100\n",
      "64/64 [==============================] - 0s 447us/sample - loss: 4.0219 - accuracy: 0.0312\n",
      "Epoch 77/100\n",
      "64/64 [==============================] - 0s 446us/sample - loss: 4.0250 - accuracy: 0.0156\n",
      "Epoch 78/100\n",
      "64/64 [==============================] - 0s 439us/sample - loss: 4.0235 - accuracy: 0.0156\n",
      "Epoch 79/100\n",
      "64/64 [==============================] - 0s 508us/sample - loss: 4.0195 - accuracy: 0.0469\n",
      "Epoch 80/100\n",
      "64/64 [==============================] - 0s 424us/sample - loss: 4.0166 - accuracy: 0.0469\n",
      "Epoch 81/100\n",
      "64/64 [==============================] - 0s 413us/sample - loss: 4.0171 - accuracy: 0.0156\n",
      "Epoch 82/100\n",
      "64/64 [==============================] - 0s 432us/sample - loss: 4.0144 - accuracy: 0.0469\n",
      "Epoch 83/100\n",
      "64/64 [==============================] - 0s 440us/sample - loss: 4.0147 - accuracy: 0.0312\n",
      "Epoch 84/100\n",
      "64/64 [==============================] - 0s 423us/sample - loss: 4.0139 - accuracy: 0.0469\n",
      "Epoch 85/100\n",
      "64/64 [==============================] - 0s 586us/sample - loss: 4.0135 - accuracy: 0.0469\n",
      "Epoch 86/100\n",
      "64/64 [==============================] - 0s 435us/sample - loss: 4.0126 - accuracy: 0.0469\n",
      "Epoch 87/100\n",
      "64/64 [==============================] - 0s 432us/sample - loss: 4.0091 - accuracy: 0.0469\n",
      "Epoch 88/100\n",
      "64/64 [==============================] - 0s 436us/sample - loss: 4.0103 - accuracy: 0.0469\n",
      "Epoch 89/100\n",
      "64/64 [==============================] - 0s 400us/sample - loss: 4.0082 - accuracy: 0.0469\n",
      "Epoch 90/100\n",
      "64/64 [==============================] - 0s 414us/sample - loss: 4.0111 - accuracy: 0.0156\n",
      "Epoch 91/100\n",
      "64/64 [==============================] - 0s 388us/sample - loss: 4.0079 - accuracy: 0.0312\n",
      "Epoch 92/100\n",
      "64/64 [==============================] - 0s 410us/sample - loss: 4.0102 - accuracy: 0.0469\n",
      "Epoch 93/100\n",
      "64/64 [==============================] - 0s 397us/sample - loss: 4.0112 - accuracy: 0.0469\n",
      "Epoch 94/100\n",
      "64/64 [==============================] - 0s 401us/sample - loss: 4.0056 - accuracy: 0.0312\n",
      "Epoch 95/100\n",
      "64/64 [==============================] - 0s 472us/sample - loss: 4.0070 - accuracy: 0.0469\n",
      "Epoch 96/100\n",
      "64/64 [==============================] - 0s 448us/sample - loss: 4.0031 - accuracy: 0.0469\n",
      "Epoch 97/100\n",
      "64/64 [==============================] - 0s 470us/sample - loss: 4.0037 - accuracy: 0.0469\n",
      "Epoch 98/100\n",
      "64/64 [==============================] - 0s 484us/sample - loss: 4.0025 - accuracy: 0.0469\n",
      "Epoch 99/100\n",
      "64/64 [==============================] - 0s 439us/sample - loss: 4.0011 - accuracy: 0.0469\n",
      "Epoch 100/100\n",
      "64/64 [==============================] - 0s 488us/sample - loss: 4.0046 - accuracy: 0.0469\n"
     ]
    }
   ],
   "source": [
    " history = model.fit(predictors, label, epochs=100, verbose=1)"
   ]
  },
  {
   "cell_type": "code",
   "execution_count": 0,
   "metadata": {
    "colab": {
     "base_uri": "https://localhost:8080/",
     "height": 545
    },
    "colab_type": "code",
    "id": "1fXTEO3GJ282",
    "outputId": "952cf525-adc5-4be4-9760-d13a72a63816"
   },
   "outputs": [
    {
     "data": {
      "image/png": "[encoded data removed]",
      "text/plain": [
       "<Figure size 432x288 with 1 Axes>"
      ]
     },
     "metadata": {
      "tags": []
     },
     "output_type": "display_data"
    },
    {
     "data": {
      "image/png": "[encoded data removed]",
      "text/plain": [
       "<Figure size 432x288 with 1 Axes>"
      ]
     },
     "metadata": {
      "tags": []
     },
     "output_type": "display_data"
    }
   ],
   "source": [
    "import matplotlib.pyplot as plt\n",
    "acc = history.history['accuracy']\n",
    "loss = history.history['loss']\n",
    "\n",
    "epochs = range(len(acc))\n",
    "\n",
    "plt.plot(epochs, acc, 'k-', label='Training accuracy')\n",
    "plt.title('Training accuracy')\n",
    "\n",
    "plt.figure()\n",
    "\n",
    "plt.plot(epochs, loss, 'b', label='Training Loss')\n",
    "plt.title('Training loss')\n",
    "plt.legend()\n",
    "\n",
    "plt.show()"
   ]
  },
  {
   "cell_type": "code",
   "execution_count": 0,
   "metadata": {
    "colab": {
     "base_uri": "https://localhost:8080/",
     "height": 50
    },
    "colab_type": "code",
    "id": "6Vc6PHgxa6Hm",
    "outputId": "2d5b0d2b-1c3d-46d6-dff5-c3b645074f14"
   },
   "outputs": [
    {
     "name": "stdout",
     "output_type": "stream",
     "text": [
      "Help me Obi Wan Kenobi, you're my only the the the the the the the the the the the the the the the the the the the the the the the the the the the the the the\n",
      "\n"
     ]
    }
   ],
   "source": [
    "seed_text = \"Help me Obi Wan Kenobi, you're my only\"\n",
    "next_words = 30\n",
    "\n",
    "for _ in range(next_words):\n",
    "    token_list = tokenizer.texts_to_sequences([seed_text])[0]\n",
    "    token_list = pad_sequences([token_list], maxlen = max_sequence_len - 1, padding = 'pre')\n",
    "    predicted = model.predict_classes(token_list, verbose = 0)\n",
    "    output_word = \"\"\n",
    "    for word, index in tokenizer.word_index.items():\n",
    "        if index == predicted:\n",
    "        \toutput_word = word\n",
    "        \tbreak\n",
    "    seed_text += \" \" + output_word\n",
    "\n",
    "print(seed_text)"
   ]
  }
 ],
 "metadata": {
  "accelerator": "GPU",
  "colab": {
   "collapsed_sections": [],
   "name": "Exercise Question.ipynb",
   "provenance": []
  },
  "kernelspec": {
   "display_name": "Python 3",
   "language": "python",
   "name": "python3"
  },
  "language_info": {
   "codemirror_mode": {
    "name": "ipython",
    "version": 3
   },
   "file_extension": ".py",
   "mimetype": "text/x-python",
   "name": "python",
   "nbconvert_exporter": "python",
   "pygments_lexer": "ipython3",
   "version": "3.7.5"
  },
  "toc": {
   "base_numbering": 1,
   "nav_menu": {},
   "number_sections": true,
   "sideBar": true,
   "skip_h1_title": false,
   "title_cell": "Table of Contents",
   "title_sidebar": "Contents",
   "toc_cell": false,
   "toc_position": {},
   "toc_section_display": true,
   "toc_window_display": false
  },
  "varInspector": {
   "cols": {
    "lenName": 16,
    "lenType": 16,
    "lenVar": 40
   },
   "kernels_config": {
    "python": {
     "delete_cmd_postfix": "",
     "delete_cmd_prefix": "del ",
     "library": "var_list.py",
     "varRefreshCmd": "print(var_dic_list())"
    },
    "r": {
     "delete_cmd_postfix": ") ",
     "delete_cmd_prefix": "rm(",
     "library": "var_list.r",
     "varRefreshCmd": "cat(var_dic_list()) "
    }
   },
   "types_to_exclude": [
    "module",
    "function",
    "builtin_function_or_method",
    "instance",
    "_Feature"
   ],
   "window_display": false
  }
 },
 "nbformat": 4,
 "nbformat_minor": 1
}
